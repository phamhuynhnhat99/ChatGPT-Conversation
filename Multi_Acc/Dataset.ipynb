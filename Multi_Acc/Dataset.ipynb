{
 "cells": [
  {
   "cell_type": "code",
   "execution_count": 21,
   "id": "f24bd19e",
   "metadata": {},
   "outputs": [],
   "source": [
    "import os\n",
    "import pandas as pd"
   ]
  },
  {
   "cell_type": "code",
   "execution_count": 3,
   "id": "d2ebd24e",
   "metadata": {},
   "outputs": [
    {
     "data": {
      "application/json": {
       "ascii": false,
       "bar_format": null,
       "colour": null,
       "elapsed": 0.007238864898681641,
       "initial": 0,
       "n": 0,
       "ncols": null,
       "nrows": 24,
       "postfix": null,
       "prefix": "Downloading readme",
       "rate": null,
       "total": 2339,
       "unit": "B",
       "unit_divisor": 1000,
       "unit_scale": true
      },
      "application/vnd.jupyter.widget-view+json": {
       "model_id": "08d25317563b4496b030559641469f3a",
       "version_major": 2,
       "version_minor": 0
      },
      "text/plain": [
       "Downloading readme:   0%|          | 0.00/2.34k [00:00<?, ?B/s]"
      ]
     },
     "metadata": {},
     "output_type": "display_data"
    },
    {
     "name": "stdout",
     "output_type": "stream",
     "text": [
      "Downloading and preparing dataset csv/tarudesu--ViCTSD to /home/aia/.cache/huggingface/datasets/tarudesu___csv/tarudesu--ViCTSD-54686dee69a67387/0.0.0/6954658bab30a358235fa864b05cf819af0e179325c740e4bc853bcc7ec513e1...\n"
     ]
    },
    {
     "data": {
      "application/json": {
       "ascii": false,
       "bar_format": null,
       "colour": null,
       "elapsed": 0.0051610469818115234,
       "initial": 0,
       "n": 0,
       "ncols": null,
       "nrows": 24,
       "postfix": null,
       "prefix": "Downloading data files",
       "rate": null,
       "total": 3,
       "unit": "it",
       "unit_divisor": 1000,
       "unit_scale": false
      },
      "application/vnd.jupyter.widget-view+json": {
       "model_id": "f29c7c2a90be47198129823d2bc4cfe0",
       "version_major": 2,
       "version_minor": 0
      },
      "text/plain": [
       "Downloading data files:   0%|          | 0/3 [00:00<?, ?it/s]"
      ]
     },
     "metadata": {},
     "output_type": "display_data"
    },
    {
     "data": {
      "application/json": {
       "ascii": false,
       "bar_format": null,
       "colour": null,
       "elapsed": 0.005173921585083008,
       "initial": 0,
       "n": 0,
       "ncols": null,
       "nrows": 24,
       "postfix": null,
       "prefix": "Downloading data",
       "rate": null,
       "total": 1690621,
       "unit": "B",
       "unit_divisor": 1000,
       "unit_scale": true
      },
      "application/vnd.jupyter.widget-view+json": {
       "model_id": "af38d2cf8ecf494bb9120b1445ca307c",
       "version_major": 2,
       "version_minor": 0
      },
      "text/plain": [
       "Downloading data:   0%|          | 0.00/1.69M [00:00<?, ?B/s]"
      ]
     },
     "metadata": {},
     "output_type": "display_data"
    },
    {
     "data": {
      "application/json": {
       "ascii": false,
       "bar_format": null,
       "colour": null,
       "elapsed": 0.0048143863677978516,
       "initial": 0,
       "n": 0,
       "ncols": null,
       "nrows": 24,
       "postfix": null,
       "prefix": "Downloading data",
       "rate": null,
       "total": 495885,
       "unit": "B",
       "unit_divisor": 1000,
       "unit_scale": true
      },
      "application/vnd.jupyter.widget-view+json": {
       "model_id": "de460ba931c84d608fddc7dce9f2e6e8",
       "version_major": 2,
       "version_minor": 0
      },
      "text/plain": [
       "Downloading data:   0%|          | 0.00/496k [00:00<?, ?B/s]"
      ]
     },
     "metadata": {},
     "output_type": "display_data"
    },
    {
     "data": {
      "application/json": {
       "ascii": false,
       "bar_format": null,
       "colour": null,
       "elapsed": 0.0048563480377197266,
       "initial": 0,
       "n": 0,
       "ncols": null,
       "nrows": 24,
       "postfix": null,
       "prefix": "Downloading data",
       "rate": null,
       "total": 239211,
       "unit": "B",
       "unit_divisor": 1000,
       "unit_scale": true
      },
      "application/vnd.jupyter.widget-view+json": {
       "model_id": "2f83b36a70a44dc48dca700ba936f9c3",
       "version_major": 2,
       "version_minor": 0
      },
      "text/plain": [
       "Downloading data:   0%|          | 0.00/239k [00:00<?, ?B/s]"
      ]
     },
     "metadata": {},
     "output_type": "display_data"
    },
    {
     "data": {
      "application/json": {
       "ascii": false,
       "bar_format": null,
       "colour": null,
       "elapsed": 0.00536036491394043,
       "initial": 0,
       "n": 0,
       "ncols": null,
       "nrows": 24,
       "postfix": null,
       "prefix": "Extracting data files",
       "rate": null,
       "total": 3,
       "unit": "it",
       "unit_divisor": 1000,
       "unit_scale": false
      },
      "application/vnd.jupyter.widget-view+json": {
       "model_id": "e5a780480e2647b2be3fbc12133c6867",
       "version_major": 2,
       "version_minor": 0
      },
      "text/plain": [
       "Extracting data files:   0%|          | 0/3 [00:00<?, ?it/s]"
      ]
     },
     "metadata": {},
     "output_type": "display_data"
    },
    {
     "data": {
      "application/json": {
       "ascii": false,
       "bar_format": null,
       "colour": null,
       "elapsed": 0.006224632263183594,
       "initial": 0,
       "n": 0,
       "ncols": null,
       "nrows": 24,
       "postfix": null,
       "prefix": "Generating train split",
       "rate": null,
       "total": 0,
       "unit": " examples",
       "unit_divisor": 1000,
       "unit_scale": false
      },
      "application/vnd.jupyter.widget-view+json": {
       "model_id": "",
       "version_major": 2,
       "version_minor": 0
      },
      "text/plain": [
       "Generating train split: 0 examples [00:00, ? examples/s]"
      ]
     },
     "metadata": {},
     "output_type": "display_data"
    },
    {
     "data": {
      "application/json": {
       "ascii": false,
       "bar_format": null,
       "colour": null,
       "elapsed": 0.00718998908996582,
       "initial": 0,
       "n": 0,
       "ncols": null,
       "nrows": 24,
       "postfix": null,
       "prefix": "Generating validation split",
       "rate": null,
       "total": 0,
       "unit": " examples",
       "unit_divisor": 1000,
       "unit_scale": false
      },
      "application/vnd.jupyter.widget-view+json": {
       "model_id": "",
       "version_major": 2,
       "version_minor": 0
      },
      "text/plain": [
       "Generating validation split: 0 examples [00:00, ? examples/s]"
      ]
     },
     "metadata": {},
     "output_type": "display_data"
    },
    {
     "data": {
      "application/json": {
       "ascii": false,
       "bar_format": null,
       "colour": null,
       "elapsed": 0.005438089370727539,
       "initial": 0,
       "n": 0,
       "ncols": null,
       "nrows": 24,
       "postfix": null,
       "prefix": "Generating test split",
       "rate": null,
       "total": 0,
       "unit": " examples",
       "unit_divisor": 1000,
       "unit_scale": false
      },
      "application/vnd.jupyter.widget-view+json": {
       "model_id": "",
       "version_major": 2,
       "version_minor": 0
      },
      "text/plain": [
       "Generating test split: 0 examples [00:00, ? examples/s]"
      ]
     },
     "metadata": {},
     "output_type": "display_data"
    },
    {
     "name": "stdout",
     "output_type": "stream",
     "text": [
      "Dataset csv downloaded and prepared to /home/aia/.cache/huggingface/datasets/tarudesu___csv/tarudesu--ViCTSD-54686dee69a67387/0.0.0/6954658bab30a358235fa864b05cf819af0e179325c740e4bc853bcc7ec513e1. Subsequent calls will reuse this data.\n"
     ]
    },
    {
     "data": {
      "application/json": {
       "ascii": false,
       "bar_format": null,
       "colour": null,
       "elapsed": 0.005824089050292969,
       "initial": 0,
       "n": 0,
       "ncols": null,
       "nrows": 24,
       "postfix": null,
       "prefix": "",
       "rate": null,
       "total": 3,
       "unit": "it",
       "unit_divisor": 1000,
       "unit_scale": false
      },
      "application/vnd.jupyter.widget-view+json": {
       "model_id": "bbf0c3edd08346908b3758215a2ebe42",
       "version_major": 2,
       "version_minor": 0
      },
      "text/plain": [
       "  0%|          | 0/3 [00:00<?, ?it/s]"
      ]
     },
     "metadata": {},
     "output_type": "display_data"
    }
   ],
   "source": [
    "from datasets import load_dataset\n",
    "\n",
    "dataset = load_dataset(\"tarudesu/ViCTSD\")"
   ]
  },
  {
   "cell_type": "code",
   "execution_count": 13,
   "id": "a191c6c7",
   "metadata": {},
   "outputs": [
    {
     "data": {
      "text/plain": [
       "'/home/aia/Nhat/ChatGPT-Conversation/Multi_Acc'"
      ]
     },
     "execution_count": 13,
     "metadata": {},
     "output_type": "execute_result"
    }
   ],
   "source": [
    "folder_path = os.path.join(os.path.abspath(os.pardir), \"Multi_Acc\")\n",
    "folder_path"
   ]
  },
  {
   "cell_type": "code",
   "execution_count": 29,
   "id": "edbca04a",
   "metadata": {},
   "outputs": [
    {
     "data": {
      "text/html": [
       "<div>\n",
       "<style scoped>\n",
       "    .dataframe tbody tr th:only-of-type {\n",
       "        vertical-align: middle;\n",
       "    }\n",
       "\n",
       "    .dataframe tbody tr th {\n",
       "        vertical-align: top;\n",
       "    }\n",
       "\n",
       "    .dataframe thead th {\n",
       "        text-align: right;\n",
       "    }\n",
       "</style>\n",
       "<table border=\"1\" class=\"dataframe\">\n",
       "  <thead>\n",
       "    <tr style=\"text-align: right;\">\n",
       "      <th></th>\n",
       "      <th>Comment</th>\n",
       "      <th>Constructiveness</th>\n",
       "      <th>Toxicity</th>\n",
       "      <th>Title</th>\n",
       "      <th>Topic</th>\n",
       "    </tr>\n",
       "  </thead>\n",
       "  <tbody>\n",
       "    <tr>\n",
       "      <th>0</th>\n",
       "      <td>Thật tuyệt vời...!!!</td>\n",
       "      <td>0</td>\n",
       "      <td>0</td>\n",
       "      <td>Những 'bước tiến diệu kỳ' của Trúc Nhi - Diệu Nhi</td>\n",
       "      <td>SucKhoe</td>\n",
       "    </tr>\n",
       "    <tr>\n",
       "      <th>1</th>\n",
       "      <td>mỹ đã tuột dốc quá nhiều rồi, giờ muốn vực dậy...</td>\n",
       "      <td>1</td>\n",
       "      <td>0</td>\n",
       "      <td>Hình tượng Mỹ sụp đổ trong lòng người dân thế ...</td>\n",
       "      <td>TheGioi</td>\n",
       "    </tr>\n",
       "    <tr>\n",
       "      <th>2</th>\n",
       "      <td>tôi thấy người lái xe hơi bấm còi mới là người...</td>\n",
       "      <td>1</td>\n",
       "      <td>1</td>\n",
       "      <td>Cả trăm người đạp xe thể dục bịt kín đường</td>\n",
       "      <td>OtoXemay</td>\n",
       "    </tr>\n",
       "    <tr>\n",
       "      <th>3</th>\n",
       "      <td>Coi dịch là giặc. Đã mang tên đó mà xâm nhập V...</td>\n",
       "      <td>0</td>\n",
       "      <td>0</td>\n",
       "      <td>11 ngày không lây nhiễm nCoV cộng đồng</td>\n",
       "      <td>SucKhoe</td>\n",
       "    </tr>\n",
       "    <tr>\n",
       "      <th>4</th>\n",
       "      <td>Thương các bé quá! Các con còn quá nhỏ mà đã p...</td>\n",
       "      <td>0</td>\n",
       "      <td>0</td>\n",
       "      <td>5 trẻ chết đuối dưới ao</td>\n",
       "      <td>ThoiSu</td>\n",
       "    </tr>\n",
       "    <tr>\n",
       "      <th>...</th>\n",
       "      <td>...</td>\n",
       "      <td>...</td>\n",
       "      <td>...</td>\n",
       "      <td>...</td>\n",
       "      <td>...</td>\n",
       "    </tr>\n",
       "    <tr>\n",
       "      <th>6995</th>\n",
       "      <td>đọc tin mà đau lòng quá,thảm nạn cứ xãy ra hoà...</td>\n",
       "      <td>0</td>\n",
       "      <td>0</td>\n",
       "      <td>5 trẻ chết đuối dưới ao</td>\n",
       "      <td>ThoiSu</td>\n",
       "    </tr>\n",
       "    <tr>\n",
       "      <th>6996</th>\n",
       "      <td>Nên mua bạn nhé. Để bảo vệ sức khỏe bạn trong ...</td>\n",
       "      <td>1</td>\n",
       "      <td>0</td>\n",
       "      <td>Chưa lập gia đình có nên mua bảo hiểm nhân thọ?</td>\n",
       "      <td>KinhDoanh</td>\n",
       "    </tr>\n",
       "    <tr>\n",
       "      <th>6997</th>\n",
       "      <td>Nên ra luật người sử dụng ma túy cũng phạm tội...</td>\n",
       "      <td>1</td>\n",
       "      <td>0</td>\n",
       "      <td>102 người dương tính ma túy trong quán bar</td>\n",
       "      <td>PhapLuat</td>\n",
       "    </tr>\n",
       "    <tr>\n",
       "      <th>6998</th>\n",
       "      <td>Mua Fadil đủ lăn bánh. Nếu thấy đắt thì đi Mor...</td>\n",
       "      <td>1</td>\n",
       "      <td>0</td>\n",
       "      <td>450 triệu mua xe gì phục vụ gia đình?</td>\n",
       "      <td>OtoXemay</td>\n",
       "    </tr>\n",
       "    <tr>\n",
       "      <th>6999</th>\n",
       "      <td>2 kẻ này phải xử lý mạnh. Thật căm phẫn</td>\n",
       "      <td>0</td>\n",
       "      <td>1</td>\n",
       "      <td>5 cháu bé bị mẹ và cậu chăn dắt ăn xin</td>\n",
       "      <td>PhapLuat</td>\n",
       "    </tr>\n",
       "  </tbody>\n",
       "</table>\n",
       "<p>7000 rows × 5 columns</p>\n",
       "</div>"
      ],
      "text/plain": [
       "                                                Comment  Constructiveness  \\\n",
       "0                                  Thật tuyệt vời...!!!                 0   \n",
       "1     mỹ đã tuột dốc quá nhiều rồi, giờ muốn vực dậy...                 1   \n",
       "2     tôi thấy người lái xe hơi bấm còi mới là người...                 1   \n",
       "3     Coi dịch là giặc. Đã mang tên đó mà xâm nhập V...                 0   \n",
       "4     Thương các bé quá! Các con còn quá nhỏ mà đã p...                 0   \n",
       "...                                                 ...               ...   \n",
       "6995  đọc tin mà đau lòng quá,thảm nạn cứ xãy ra hoà...                 0   \n",
       "6996  Nên mua bạn nhé. Để bảo vệ sức khỏe bạn trong ...                 1   \n",
       "6997  Nên ra luật người sử dụng ma túy cũng phạm tội...                 1   \n",
       "6998  Mua Fadil đủ lăn bánh. Nếu thấy đắt thì đi Mor...                 1   \n",
       "6999            2 kẻ này phải xử lý mạnh. Thật căm phẫn                 0   \n",
       "\n",
       "      Toxicity                                              Title      Topic  \n",
       "0            0  Những 'bước tiến diệu kỳ' của Trúc Nhi - Diệu Nhi    SucKhoe  \n",
       "1            0  Hình tượng Mỹ sụp đổ trong lòng người dân thế ...    TheGioi  \n",
       "2            1         Cả trăm người đạp xe thể dục bịt kín đường   OtoXemay  \n",
       "3            0             11 ngày không lây nhiễm nCoV cộng đồng    SucKhoe  \n",
       "4            0                            5 trẻ chết đuối dưới ao     ThoiSu  \n",
       "...        ...                                                ...        ...  \n",
       "6995         0                            5 trẻ chết đuối dưới ao     ThoiSu  \n",
       "6996         0    Chưa lập gia đình có nên mua bảo hiểm nhân thọ?  KinhDoanh  \n",
       "6997         0         102 người dương tính ma túy trong quán bar   PhapLuat  \n",
       "6998         0              450 triệu mua xe gì phục vụ gia đình?   OtoXemay  \n",
       "6999         1             5 cháu bé bị mẹ và cậu chăn dắt ăn xin   PhapLuat  \n",
       "\n",
       "[7000 rows x 5 columns]"
      ]
     },
     "execution_count": 29,
     "metadata": {},
     "output_type": "execute_result"
    }
   ],
   "source": [
    "df_train = pd.DataFrame(dataset['train']).drop([\"Unnamed: 0\"], axis=1)\n",
    "df_train"
   ]
  },
  {
   "cell_type": "code",
   "execution_count": null,
   "id": "5216d615",
   "metadata": {},
   "outputs": [],
   "source": []
  },
  {
   "cell_type": "code",
   "execution_count": null,
   "id": "449c8268",
   "metadata": {},
   "outputs": [],
   "source": []
  }
 ],
 "metadata": {
  "kernelspec": {
   "display_name": "Python 3 (ipykernel)",
   "language": "python",
   "name": "python3"
  },
  "language_info": {
   "codemirror_mode": {
    "name": "ipython",
    "version": 3
   },
   "file_extension": ".py",
   "mimetype": "text/x-python",
   "name": "python",
   "nbconvert_exporter": "python",
   "pygments_lexer": "ipython3",
   "version": "3.8.16"
  }
 },
 "nbformat": 4,
 "nbformat_minor": 5
}
